{
 "cells": [
  {
   "cell_type": "markdown",
   "metadata": {},
   "source": [
    "### Librerías "
   ]
  },
  {
   "cell_type": "code",
   "execution_count": 17,
   "metadata": {},
   "outputs": [],
   "source": [
    "#!pip install pdf2image\n",
    "#!pip install PyPDF2\n",
    "#!pip install tweepy\n",
    "import os\n",
    "import random\n",
    "import tempfile\n",
    "import tweepy\n",
    "import glob\n",
    "from PyPDF2 import PdfFileWriter, PdfFileReader\n",
    "from pdf2image import convert_from_path\n"
   ]
  },
  {
   "cell_type": "markdown",
   "metadata": {},
   "source": [
    "### Vemos de recortar la esquina inferior derecha"
   ]
  },
  {
   "cell_type": "code",
   "execution_count": 2,
   "metadata": {},
   "outputs": [
    {
     "name": "stderr",
     "output_type": "stream",
     "text": [
      "PdfReadWarning: Xref table not zero-indexed. ID numbers for objects will be corrected. [pdf.py:1736]\n"
     ]
    }
   ],
   "source": [
    "reader = PdfFileReader(\"Winsor McCay - LITTLE NEMO 1924-1927.pdf\", \"r\")"
   ]
  },
  {
   "cell_type": "code",
   "execution_count": 3,
   "metadata": {},
   "outputs": [
    {
     "data": {
      "text/plain": [
       "129"
      ]
     },
     "execution_count": 3,
     "metadata": {},
     "output_type": "execute_result"
    }
   ],
   "source": [
    "reader.getNumPages()"
   ]
  },
  {
   "cell_type": "code",
   "execution_count": 4,
   "metadata": {},
   "outputs": [],
   "source": [
    "page = reader.getPage(1)"
   ]
  },
  {
   "cell_type": "code",
   "execution_count": 5,
   "metadata": {},
   "outputs": [
    {
     "name": "stdout",
     "output_type": "stream",
     "text": [
      "(0, 0)\n",
      "(0, 532)\n",
      "(403, 0)\n",
      "(403, 532)\n"
     ]
    }
   ],
   "source": [
    "print(page.cropBox.getLowerLeft())\n",
    "print(page.cropBox.getUpperLeft())\n",
    "print(page.cropBox.getLowerRight())\n",
    "print(page.cropBox.getUpperRight())"
   ]
  },
  {
   "cell_type": "code",
   "execution_count": 6,
   "metadata": {},
   "outputs": [],
   "source": [
    "writer = PdfFileWriter()"
   ]
  },
  {
   "cell_type": "code",
   "execution_count": 7,
   "metadata": {},
   "outputs": [],
   "source": [
    "for i in range(reader.getNumPages()):\n",
    "    page = reader.getPage(i)\n",
    "    page.cropBox.setLowerLeft((292,100))\n",
    "    page.cropBox.setUpperLeft((290,0))\n",
    "    writer.addPage(page)"
   ]
  },
  {
   "cell_type": "code",
   "execution_count": 178,
   "metadata": {},
   "outputs": [],
   "source": [
    "outstream = open(\"newi_croped\", \"wb\")"
   ]
  },
  {
   "cell_type": "code",
   "execution_count": 179,
   "metadata": {},
   "outputs": [],
   "source": [
    "writer.write(outstream)\n",
    "outstream.close()"
   ]
  },
  {
   "cell_type": "markdown",
   "metadata": {},
   "source": [
    "### Separamos en páginas"
   ]
  },
  {
   "cell_type": "code",
   "execution_count": 3,
   "metadata": {},
   "outputs": [
    {
     "name": "stderr",
     "output_type": "stream",
     "text": [
      "PdfReadWarning: Xref table not zero-indexed. ID numbers for objects will be corrected. [pdf.py:1736]\n"
     ]
    }
   ],
   "source": [
    "inputpdf = PdfFileReader(open(\"Winsor McCay - LITTLE NEMO 1924-1927.pdf\", \"rb\"))\n",
    "\n",
    "for i in range(inputpdf.numPages):\n",
    "    output = PdfFileWriter()\n",
    "    output.addPage(inputpdf.getPage(i))\n",
    "    with open(\"document-page%s.pdf\" % i, \"wb\") as outputStream:\n",
    "        output.write(outputStream)"
   ]
  },
  {
   "cell_type": "markdown",
   "metadata": {},
   "source": [
    "### Convertimos de Pdf a Jpeg"
   ]
  },
  {
   "cell_type": "code",
   "execution_count": null,
   "metadata": {},
   "outputs": [],
   "source": [
    "#pages = convert_from_path('newi_croped', 500)\n",
    "#for page in pages:\n",
    "#    page.save('out.jpg', 'JPEG')"
   ]
  },
  {
   "cell_type": "code",
   "execution_count": 7,
   "metadata": {},
   "outputs": [],
   "source": [
    "from pdf2image import convert_from_path\n",
    "import glob,os\n",
    "import os, subprocess\n",
    "\n",
    "pdf_dir = r\"/home/thomas/Descargas/Little Nemo/Little Nemo separado en páginas (PDF-JPG)/\"\n",
    "os.chdir(pdf_dir)\n",
    "\n",
    "for pdf_file in glob.glob(os.path.join(pdf_dir, \"*.pdf\")):\n",
    "    pages = convert_from_path(pdf_file, 500)\n",
    "    for page in pages:\n",
    "        page.save(pdf_file[:-4] +\".jpg\", 'JPEG')"
   ]
  },
  {
   "cell_type": "markdown",
   "metadata": {},
   "source": [
    "### Elegimos una foto random"
   ]
  },
  {
   "cell_type": "code",
   "execution_count": 5,
   "metadata": {},
   "outputs": [
    {
     "name": "stdout",
     "output_type": "stream",
     "text": [
      "index (copia 1).png\n"
     ]
    }
   ],
   "source": [
    "path = r\"/home/thomas/Little_Nemo_Manipulation/Random/\"\n",
    "random_filename = random.choice([\n",
    "    x for x in os.listdir(path)\n",
    "    if os.path.isfile(os.path.join(path, x))\n",
    "])\n",
    "print(random_filename)"
   ]
  },
  {
   "cell_type": "markdown",
   "metadata": {},
   "source": [
    "### ¡Twitteamos!"
   ]
  },
  {
   "cell_type": "markdown",
   "metadata": {},
   "source": [
    "#### Modelo 1"
   ]
  },
  {
   "cell_type": "code",
   "execution_count": 20,
   "metadata": {},
   "outputs": [
    {
     "ename": "NameError",
     "evalue": "name 'auth' is not defined",
     "output_type": "error",
     "traceback": [
      "\u001b[0;31m---------------------------------------------------------------------------\u001b[0m",
      "\u001b[0;31mNameError\u001b[0m                                 Traceback (most recent call last)",
      "\u001b[0;32m<ipython-input-20-6cc9103bb8db>\u001b[0m in \u001b[0;36m<module>\u001b[0;34m\u001b[0m\n\u001b[1;32m      4\u001b[0m \u001b[0moauth_token_secret\u001b[0m \u001b[0;34m=\u001b[0m \u001b[0;34m\"your access token secret\"\u001b[0m \u001b[0;31m# Access Token Secretauth = tweepy.OAuthHandler(api_key, api_secret)\u001b[0m\u001b[0;34m\u001b[0m\u001b[0;34m\u001b[0m\u001b[0m\n\u001b[1;32m      5\u001b[0m \u001b[0;34m\u001b[0m\u001b[0m\n\u001b[0;32m----> 6\u001b[0;31m \u001b[0mauth\u001b[0m\u001b[0;34m.\u001b[0m\u001b[0mset_access_token\u001b[0m\u001b[0;34m(\u001b[0m\u001b[0moauth_token\u001b[0m\u001b[0;34m,\u001b[0m \u001b[0moauth_token_secret\u001b[0m\u001b[0;34m)\u001b[0m\u001b[0;34m\u001b[0m\u001b[0;34m\u001b[0m\u001b[0m\n\u001b[0m\u001b[1;32m      7\u001b[0m \u001b[0mapi\u001b[0m \u001b[0;34m=\u001b[0m \u001b[0mtweepy\u001b[0m\u001b[0;34m.\u001b[0m\u001b[0mAPI\u001b[0m\u001b[0;34m(\u001b[0m\u001b[0mauth\u001b[0m\u001b[0;34m)\u001b[0m\u001b[0;31m#Changes directory to where the script is located (easier cron scheduling, allows you to work with relative paths)\u001b[0m\u001b[0;34m\u001b[0m\u001b[0;34m\u001b[0m\u001b[0m\n\u001b[1;32m      8\u001b[0m \u001b[0mabspath\u001b[0m \u001b[0;34m=\u001b[0m \u001b[0mos\u001b[0m\u001b[0;34m.\u001b[0m\u001b[0mpath\u001b[0m\u001b[0;34m.\u001b[0m\u001b[0mabspath\u001b[0m\u001b[0;34m(\u001b[0m\u001b[0m__file__\u001b[0m\u001b[0;34m)\u001b[0m\u001b[0;34m\u001b[0m\u001b[0;34m\u001b[0m\u001b[0m\n",
      "\u001b[0;31mNameError\u001b[0m: name 'auth' is not defined"
     ]
    }
   ],
   "source": [
    "api_key = \"your api key\"\n",
    "api_secret = \"your api key sec\"\n",
    "oauth_token = \"your access token\" # Access Token\n",
    "oauth_token_secret = \"your access token secret\" # Access Token Secretauth = tweepy.OAuthHandler(api_key, api_secret)\n",
    "\n",
    "auth.set_access_token(oauth_token, oauth_token_secret)\n",
    "api = tweepy.API(auth)#Changes directory to where the script is located (easier cron scheduling, allows you to work with relative paths)\n",
    "abspath = os.path.abspath(__file__)\n",
    "dname = os.path.dirname(abspath)\n",
    "\n",
    "os.chdir(dname)"
   ]
  },
  {
   "cell_type": "code",
   "execution_count": null,
   "metadata": {},
   "outputs": [],
   "source": [
    "def randomimagetwitt(folder):\n",
    "    #Takes the folder where your images are as the input and twitts one random file.\n",
    "    images = glob.glob(folder + \"*\")\n",
    "    image_open = images[random.randint(0,len(images))-1]\n",
    "    api.update_with_media(image_open)#Twitts\n"
   ]
  },
  {
   "cell_type": "code",
   "execution_count": null,
   "metadata": {},
   "outputs": [],
   "source": [
    "#Twitts\n",
    "randomimagetwitt(\"source images folder\")"
   ]
  },
  {
   "cell_type": "markdown",
   "metadata": {},
   "source": [
    "#### Modelo 2"
   ]
  },
  {
   "cell_type": "code",
   "execution_count": 22,
   "metadata": {},
   "outputs": [
    {
     "name": "stdout",
     "output_type": "stream",
     "text": [
      "Enter the status you want Hola\n",
      "Enter the image path with the name, or leave it blank A\n"
     ]
    },
    {
     "ename": "FileNotFoundError",
     "evalue": "[Errno 2] No such file or directory: 'creds.txt'",
     "output_type": "error",
     "traceback": [
      "\u001b[0;31m---------------------------------------------------------------------------\u001b[0m",
      "\u001b[0;31mFileNotFoundError\u001b[0m                         Traceback (most recent call last)",
      "\u001b[0;32m<ipython-input-22-69ecf2d9cd1f>\u001b[0m in \u001b[0;36m<module>\u001b[0;34m\u001b[0m\n\u001b[1;32m     47\u001b[0m     \u001b[0mstatus\u001b[0m \u001b[0;34m=\u001b[0m \u001b[0minput\u001b[0m\u001b[0;34m(\u001b[0m\u001b[0;34m\"Enter the status you want \"\u001b[0m\u001b[0;34m)\u001b[0m\u001b[0;34m\u001b[0m\u001b[0;34m\u001b[0m\u001b[0m\n\u001b[1;32m     48\u001b[0m     \u001b[0mimage\u001b[0m \u001b[0;34m=\u001b[0m \u001b[0minput\u001b[0m\u001b[0;34m(\u001b[0m\u001b[0;34m\"Enter the image path with the name, or leave it blank \"\u001b[0m\u001b[0;34m)\u001b[0m\u001b[0;34m\u001b[0m\u001b[0;34m\u001b[0m\u001b[0m\n\u001b[0;32m---> 49\u001b[0;31m     \u001b[0mtweet_object\u001b[0m \u001b[0;34m=\u001b[0m \u001b[0mTweet\u001b[0m\u001b[0;34m(\u001b[0m\u001b[0mstatus\u001b[0m\u001b[0;34m,\u001b[0m \u001b[0mimage\u001b[0m\u001b[0;34m)\u001b[0m\u001b[0;34m\u001b[0m\u001b[0;34m\u001b[0m\u001b[0m\n\u001b[0m",
      "\u001b[0;32m<ipython-input-22-69ecf2d9cd1f>\u001b[0m in \u001b[0;36m__init__\u001b[0;34m(self, user_status, user_media)\u001b[0m\n\u001b[1;32m      5\u001b[0m \u001b[0;32mclass\u001b[0m \u001b[0mTweet\u001b[0m\u001b[0;34m(\u001b[0m\u001b[0mobject\u001b[0m\u001b[0;34m)\u001b[0m\u001b[0;34m:\u001b[0m\u001b[0;34m\u001b[0m\u001b[0;34m\u001b[0m\u001b[0m\n\u001b[1;32m      6\u001b[0m     \u001b[0;32mdef\u001b[0m \u001b[0m__init__\u001b[0m\u001b[0;34m(\u001b[0m\u001b[0mself\u001b[0m\u001b[0;34m,\u001b[0m \u001b[0muser_status\u001b[0m\u001b[0;34m,\u001b[0m \u001b[0muser_media\u001b[0m\u001b[0;34m)\u001b[0m\u001b[0;34m:\u001b[0m\u001b[0;34m\u001b[0m\u001b[0;34m\u001b[0m\u001b[0m\n\u001b[0;32m----> 7\u001b[0;31m         \u001b[0mcredentials\u001b[0m \u001b[0;34m=\u001b[0m \u001b[0mopen\u001b[0m\u001b[0;34m(\u001b[0m\u001b[0;34m\"creds.txt\"\u001b[0m\u001b[0;34m)\u001b[0m\u001b[0;34m.\u001b[0m\u001b[0mreadlines\u001b[0m\u001b[0;34m(\u001b[0m\u001b[0;34m)\u001b[0m\u001b[0;34m\u001b[0m\u001b[0;34m\u001b[0m\u001b[0m\n\u001b[0m\u001b[1;32m      8\u001b[0m         self.session = OAuth1Session(credentials[0].strip(),\n\u001b[1;32m      9\u001b[0m                                     \u001b[0mclient_secret\u001b[0m\u001b[0;34m=\u001b[0m\u001b[0mcredentials\u001b[0m\u001b[0;34m[\u001b[0m\u001b[0;36m1\u001b[0m\u001b[0;34m]\u001b[0m\u001b[0;34m.\u001b[0m\u001b[0mstrip\u001b[0m\u001b[0;34m(\u001b[0m\u001b[0;34m)\u001b[0m\u001b[0;34m,\u001b[0m\u001b[0;34m\u001b[0m\u001b[0;34m\u001b[0m\u001b[0m\n",
      "\u001b[0;31mFileNotFoundError\u001b[0m: [Errno 2] No such file or directory: 'creds.txt'"
     ]
    }
   ],
   "source": [
    "import json\n",
    "from requests_oauthlib import OAuth1Session\n",
    "\n",
    "\n",
    "class Tweet(object):\n",
    "    def __init__(self, user_status, user_media):\n",
    "        credentials = open(\"creds.txt\").readlines()\n",
    "        self.session = OAuth1Session(credentials[0].strip(),\n",
    "                                    client_secret=credentials[1].strip(),\n",
    "                                    resource_owner_key=credentials[2].strip(),\n",
    "                                    resource_owner_secret=credentials[3].strip()\n",
    "                                    )\n",
    "        self.media_id = None\n",
    "        self.status = user_status\n",
    "        self.user_media = user_media\n",
    "        self.url = \"https://api.twitter.com/1.1/statuses/update.json\"\n",
    "        self.url_media = \"https://upload.twitter.com/1.1/media/upload.json\"\n",
    "        self.post_tweet()\n",
    "\n",
    "    def post_tweet(self):\n",
    "        if self.user_media is not None:\n",
    "            self.media_id = self.get_media_id()\n",
    "        else:\n",
    "            print(\"user meida is not none\")\n",
    "\n",
    "        params = {'status': self.status, 'media_ids': [self.media_id]}\n",
    "        print(params)\n",
    "        post_object = self.session.post(self.url, params=params)\n",
    "\n",
    "        if post_object.status_code in [200, 201]:\n",
    "            print(\"Tweet was successfully posted\")\n",
    "        else:\n",
    "            print(\"Something went wrong\")\n",
    "\n",
    "    def get_media_id(self):\n",
    "        files = {\"media\" : open(self.user_media, 'rb')}\n",
    "        req_media = self.session.post(self.url_media, files = files)\n",
    "\n",
    "        if req_media.status_code in [200, 201]:\n",
    "            media_id = json.loads(req_media.text)['media_id']\n",
    "            return media_id\n",
    "        else:\n",
    "            return False\n",
    "\n",
    "\n",
    "if __name__ == \"__main__\":\n",
    "    status = input(\"Enter the status you want \")\n",
    "    image = input(\"Enter the image path with the name, or leave it blank \")\n",
    "    tweet_object = Tweet(status, image)"
   ]
  },
  {
   "cell_type": "markdown",
   "metadata": {},
   "source": [
    "#### Modelo 3"
   ]
  },
  {
   "cell_type": "code",
   "execution_count": 21,
   "metadata": {},
   "outputs": [
    {
     "ename": "ModuleNotFoundError",
     "evalue": "No module named 'settings'",
     "output_type": "error",
     "traceback": [
      "\u001b[0;31m---------------------------------------------------------------------------\u001b[0m",
      "\u001b[0;31mModuleNotFoundError\u001b[0m                       Traceback (most recent call last)",
      "\u001b[0;32m<ipython-input-21-ecb32e61555c>\u001b[0m in \u001b[0;36m<module>\u001b[0;34m\u001b[0m\n\u001b[0;32m----> 1\u001b[0;31m \u001b[0;32mfrom\u001b[0m \u001b[0msettings\u001b[0m \u001b[0;32mimport\u001b[0m \u001b[0mconfig\u001b[0m\u001b[0;34m\u001b[0m\u001b[0;34m\u001b[0m\u001b[0m\n\u001b[0m\u001b[1;32m      2\u001b[0m \u001b[0;32mfrom\u001b[0m \u001b[0mbot\u001b[0m \u001b[0;32mimport\u001b[0m \u001b[0mstatus\u001b[0m\u001b[0;34m\u001b[0m\u001b[0;34m\u001b[0m\u001b[0m\n\u001b[1;32m      3\u001b[0m \u001b[0;32mfrom\u001b[0m \u001b[0mbot\u001b[0m \u001b[0;32mimport\u001b[0m \u001b[0mrequests\u001b[0m\u001b[0;34m\u001b[0m\u001b[0;34m\u001b[0m\u001b[0m\n\u001b[1;32m      4\u001b[0m \u001b[0;32mfrom\u001b[0m \u001b[0mbot\u001b[0m \u001b[0;32mimport\u001b[0m \u001b[0mtimeline\u001b[0m\u001b[0;34m\u001b[0m\u001b[0;34m\u001b[0m\u001b[0m\n\u001b[1;32m      5\u001b[0m \u001b[0;32mfrom\u001b[0m \u001b[0mlogs\u001b[0m \u001b[0;32mimport\u001b[0m \u001b[0mlogger\u001b[0m\u001b[0;34m\u001b[0m\u001b[0;34m\u001b[0m\u001b[0m\n",
      "\u001b[0;31mModuleNotFoundError\u001b[0m: No module named 'settings'"
     ]
    }
   ],
   "source": [
    "from settings import config\n",
    "from bot import status\n",
    "from bot import requests\n",
    "from bot import timeline\n",
    "from logs import logger\n",
    "from logs import banner\n",
    "import random\n",
    "import argparse\n",
    "import sys\n",
    "import os\n",
    "\n",
    "\"\"\"The glue that holds it all together: uses all the other modules\n",
    "to handle requests, post tweets if chance is met, calls the logger\n",
    "and parses the CLI arguments.\n",
    "Some lingo used through the code:\n",
    "    master_account is setted in the config, should be the owner of the bot.\n",
    "    gift, gifted: a gift is a request for the bot to tweet an image for a third\n",
    "                  person, like: \"hey bot give my gf @girlfriend an image!\"\n",
    "\"\"\"\n",
    "\n",
    "def handle_tweet_posting(text, reply_id, test=False):\n",
    "    \"\"\"Sends a tweet to twitter, making sure it is not repeated and logs\n",
    "    it to our log file. If no non repeated or non banned images found, return\n",
    "    False. If operation was succesful, return True.\n",
    "    text = text to be tweeted,\n",
    "    reply_id = the id of the tweet we'll be replying to,\n",
    "    test = if bot was executed with test flag or not.\n",
    "    \"\"\"\n",
    "    log = config.log_file\n",
    "    tolerance = config.tolerance\n",
    "    banned_list = config.banned_file\n",
    "    media, amount_media_available = get_random_image_from_folder(config.source_folder)\n",
    "\n",
    "    t = status.Tweet(media, text, reply_id)\n",
    "\n",
    "    tolerance = 0\n",
    "    while t.is_already_tweeted(log, tolerance) or t.is_banned(banned_list):\n",
    "        new_media = get_random_image_from_folder(config.source_folder)\n",
    "        t.change_media(new_media)\n",
    "        tolerance += 1\n",
    "        if tolerance >= amount_media_available:\n",
    "            return False\n",
    "\n",
    "    if not test:\n",
    "        tweet_id = t.post_to_twitter(api)\n",
    "        log_line = logger.log_line(post_number, tweet_id, media, reply_id)\n",
    "\n",
    "    else:\n",
    "        # if it was a test, don't post it and mark the log line as such\n",
    "        log_line = logger.log_line(post_number, 'TEST_ID', \"TEST_PATH\", reply_id)\n",
    "\n",
    "    logger.add_line_to_log(log_line, log)\n",
    "    return True\n",
    "\n",
    "\n",
    "def get_random_image_from_folder(folder):\n",
    "    \"\"\"Returns a random file from folder and the amount of files in the folder.\n",
    "    It's up the user to check (or not) if the return file is actually an\n",
    "    image.\n",
    "    \"\"\"\n",
    "    media_list = []\n",
    "    for dirpath, dirnames, files in os.walk(folder):\n",
    "        for f in files:\n",
    "            media_list.append(os.path.join(dirpath, f))\n",
    "    media = random.choice(media_list)\n",
    "    return media, len(media_list)\n",
    "\n",
    "\n",
    "def respond_to_simple_request(request_tweet):\n",
    "    \"\"\"Gets the information neccesary from request_tweet to reply to it.\n",
    "    \"\"\"\n",
    "    reply_id = request_tweet.id\n",
    "    user_name = request_tweet.user.screen_name\n",
    "    answer = random.choice(config.request_answers)\n",
    "    text = '@' + user_name + ' ' + answer\n",
    "    return handle_tweet_posting(text, reply_id)\n",
    "\n",
    "\n",
    "def respond_to_gift_request(request_tweet):\n",
    "    \"\"\"Gets the information neccesary from request_tweet to reply to the user\n",
    "    specified in the request_tweet, as this is a gift request.\n",
    "    \"\"\"\n",
    "    reply_id = request_tweet.id\n",
    "    user_giver = request_tweet.user.screen_name\n",
    "    user_gifted = ('@' + requests.request_to_whom(request_tweet))\n",
    "    answer = random.choice(config.request_to_third_answers)\n",
    "    text = (user_gifted + ' ' + answer + ' @' + user_giver)\n",
    "    return handle_tweet_posting(text, reply_id)\n",
    "\n",
    "\n",
    "def orders():\n",
    "    \"\"\"Handle orders given to the bot via replies\"\"\"\n",
    "    log = config.log_file\n",
    "    time = config.time_tolerance\n",
    "    master = config.master_account\n",
    "    ban_command = config.ban_command\n",
    "    master_account = config.master_account\n",
    "    mentions = requests.mentions(config.bot_account, api)\n",
    "\n",
    "    mentions = requests.mentions(config.bot_account, config.api)\n",
    "    master_mentions = requests.master_mentions(mentions, log, master_account)\n",
    "    relevant_mentions = requests.relevant_mentions(mentions, log, time)\n",
    "\n",
    "    for tweet in relevant_mentions:\n",
    "        if requests.is_img_request(tweet, config.request_command):\n",
    "            if requests.mentions_third_user(tweet):\n",
    "                respond_to_gift_request(tweet)\n",
    "            else:\n",
    "                respond_to_simple_request(tweet)\n",
    "\n",
    "    for tweet in master_mentions:\n",
    "        if requests.is_delete_order(tweet, master, ban_command):\n",
    "            id_to_delete = tweet.in_reply_to_status_id\n",
    "            timeline.delete_tweet_by_id(tweet.in_reply_to_status_id, api)\n",
    "            banner.ban_image_by_tweet_id(id_to_delete,\n",
    "                                         config.banned_file,\n",
    "                                         config.log_file)\n",
    "\n",
    "            logger.add_banned_to_log(post_number, tweet.id, config.log_file)\n",
    "\n",
    "\n",
    "def get_post_number_from_log(log_file):\n",
    "    \"\"\"Tries to get a post number from the log. If it can't, it means\n",
    "    it must be the first. Returns the number as a string.\n",
    "    \"\"\"\n",
    "    try:\n",
    "        post_number = open(log_file, 'r').readlines()[-1]\n",
    "        post_number = post_number.split()[0]\n",
    "        return str(int(post_number)+1)\n",
    "    except (IndexError, ValueError):\n",
    "        return \"1\"\n",
    "\n",
    "\n",
    "def get_post_number(manual_post_number):\n",
    "    \"\"\"Gets the post number either from the manual_post_number set by\n",
    "    the user from the CLI or from the log. Returns number as string.\n",
    "    \"\"\"\n",
    "    if manual_post_number is not None:\n",
    "        return manual_post_number\n",
    "    else:\n",
    "        return get_post_number_from_log(config.log_file)\n",
    "\n",
    "\n",
    "def create_tweet_text(raw_text, post_number, tweet_post_number):\n",
    "    \"\"\"Decides which should be the tweet text based on the raw_text setted\n",
    "    by the user, the post_number and the boolean tweet_post_number.\n",
    "    \"\"\"\n",
    "    if tweet_post_number:\n",
    "        if raw_text:\n",
    "            tweet_text =  \"No. \" + str(post_number) + \" \" + raw_text\n",
    "        else:\n",
    "            tweet_text =  \"No. \" + str(post_number)\n",
    "    else:\n",
    "        tweet_text = raw_text\n",
    "\n",
    "    return tweet_text\n",
    "\n",
    "\n",
    "def parse_args(args):\n",
    "    \"\"\"Parses arguments from command line\"\"\"\n",
    "    parser = argparse.ArgumentParser()\n",
    "    parser.add_argument(\"--tweet\", help=\"Ignores execution chance, always run\",\n",
    "                        action=\"store_true\")\n",
    "    parser.add_argument(\"--test\", help=\"Wont't tweet, just write to log\",\n",
    "                        action=\"store_true\")\n",
    "    parser.add_argument(\"--tweetnumber\", help=\"If you were already using this \"\n",
    "                        \"bot and you want to start using the post_tweet_number\"\n",
    "                        \" function you'll need to tell the bot where to \"\n",
    "                        \"start. Use this option ONLY ONCE \")\n",
    "    return parser.parse_args(args)\n",
    "\n",
    "\n",
    "def main():\n",
    "    \"\"\"Runs the whole program, the function of all functions\n",
    "    Will check the arguments from the CLI, the settings from the settings file\n",
    "    and will decide if a tweet must be posted by checking our\n",
    "    tweet_chance in the settings against a random integer between 0 and 99\n",
    "    \"\"\"\n",
    "\n",
    "    global post_number  # it's needed both here and in handle_tweet_posting()\n",
    "    global api  # it's used absolutely everywhere, so might as well be global\n",
    "\n",
    "    args = parse_args(sys.argv[1:])\n",
    "    test = args.test\n",
    "    forceTweet = args.tweet\n",
    "    manual_post_number = args.tweetnumber\n",
    "\n",
    "    api = config.api\n",
    "\n",
    "    tweet_raw_text = config.tweet_this_text\n",
    "    tweet_post_number = config.tweet_post_number\n",
    "\n",
    "    post_number = get_post_number(manual_post_number)\n",
    "    tweet_text = create_tweet_text(tweet_raw_text, post_number, tweet_post_number)\n",
    "\n",
    "    orders()\n",
    "\n",
    "    if random.randint(0, 99) < config.chance or test or forceTweet:\n",
    "        tweeted_successfully = handle_tweet_posting(tweet_text, None, test)\n",
    "        if not tweeted_successfully:\n",
    "            warning = \"!CRITICAL! No non-repeated or non-banned images found\"\n",
    "            logger.add_warning_to_log(post_number, warning, config.log_file)\n",
    "\n",
    "if __name__ == \"__main__\":\n",
    "    main()"
   ]
  }
 ],
 "metadata": {
  "kernelspec": {
   "display_name": "Python 3",
   "language": "python",
   "name": "python3"
  },
  "language_info": {
   "codemirror_mode": {
    "name": "ipython",
    "version": 3
   },
   "file_extension": ".py",
   "mimetype": "text/x-python",
   "name": "python",
   "nbconvert_exporter": "python",
   "pygments_lexer": "ipython3",
   "version": "3.7.7"
  }
 },
 "nbformat": 4,
 "nbformat_minor": 4
}
